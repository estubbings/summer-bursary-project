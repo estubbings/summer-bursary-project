{
 "cells": [
  {
   "cell_type": "markdown",
   "id": "8b8c8566",
   "metadata": {},
   "source": [
    "# Clustering Analysis of English Demographic Data\n",
    "\n",
    "The aim of this project is to use cluster analysis techniques and spatial mapping to investigate how levels of deprivation vary across England.\n",
    "\n",
    "This project uses the most recent official statistics (as of June 2025) for English indices of multiple deprivation, published by the Ministry of Housing, Communities & Government in September 2019.\n",
    "\n"
   ]
  }
 ],
 "metadata": {
  "language_info": {
   "name": "python"
  }
 },
 "nbformat": 4,
 "nbformat_minor": 5
}
